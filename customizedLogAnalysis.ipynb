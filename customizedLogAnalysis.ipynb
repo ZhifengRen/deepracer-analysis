{
 "cells": [
  {
   "cell_type": "code",
   "execution_count": null,
   "id": "initial_id",
   "metadata": {
    "collapsed": true
   },
   "outputs": [],
   "source": [
    "#!/bin/bash\n",
    "OutFileName=$1\n",
    "echo $OutFileName\n",
    "# Fix the output name\n",
    "InFilePath=$2\n",
    "echo $InFilePath/$0utF1leName i=0 for\n",
    "if\n",
    "# Reset a counter filename in $InFilePath/*.csv; do\n",
    " [ \"$filename\" != \"$InFilePath/$OutFileName\" ] :\n",
    "# Avoid recursion\n",
    "then\n",
    "#\n",
    "# echo $filename\n",
    "echo $InFilePath/$OutFileName\n",
    "if [l $i -eq 0 ]] ; then\n",
    "head -1\n",
    "\"$filename\" >\n",
    "\"$OutFileName\" # Copy header if it is the first file\n",
    "fi\n",
    "tail -n +2 \"$filename\" >>\n",
    "\"$filename\" > \"$OutFileName\" # Append from the 2nd line each file\n",
    "1=$（（$i+1））\n",
    "# Increase the counter\n",
    "fi\n",
    "done"
   ]
  },
  {
   "metadata": {},
   "cell_type": "code",
   "outputs": [],
   "execution_count": null,
   "source": [
    "import natplotlib.pyplot as plt\n",
    "Teature = reward\"\n",
    "plu.rcrarams Tont. sans-sertt = Summer\n",
    "plt. rcParams ['axes. unicode minus'] = False\n",
    "for 1 in range(10):\n",
    "    fig, ax = plt.subplots(figsize=(15,10))\n",
    "    plt.clf()\n",
    "    n8 = 1/10|\n",
    "    n1 = 1/10+0.1\n",
    "    5=5\n",
    "    full = data('episode'].max()|\n",
    "    filter_episode = [1 for 1 in range (int (np. floor (full*n®)), int (np. floor (full*n1)))]\n",
    "    filter_sample = data(data('episode']. isin(filter_episode) ]\n",
    "    filter_x_list = filter_sample('X']. to_list)\n",
    "    filter_y_list = filter_sample(\"Y').to_listo\n",
    "    color = filter_sample[feature]. to_listo)\n",
    "    plt-scatter(filter_x_list, filter_y_list,s=s,c«color,cap='YGn')#, alpha = 0.5\n",
    "    plt.colorbar()\n",
    "    plt. title('s,%s' $ (no, n1))\n",
    "    plt-pause(0.5)|"
   ],
   "id": "d63eeb91212f2a3e"
  }
 ],
 "metadata": {
  "kernelspec": {
   "display_name": "Python 3",
   "language": "python",
   "name": "python3"
  },
  "language_info": {
   "codemirror_mode": {
    "name": "ipython",
    "version": 2
   },
   "file_extension": ".py",
   "mimetype": "text/x-python",
   "name": "python",
   "nbconvert_exporter": "python",
   "pygments_lexer": "ipython2",
   "version": "2.7.6"
  }
 },
 "nbformat": 4,
 "nbformat_minor": 5
}
